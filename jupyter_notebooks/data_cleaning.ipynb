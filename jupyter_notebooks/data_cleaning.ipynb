{
 "cells": [
  {
   "attachments": {},
   "cell_type": "markdown",
   "metadata": {},
   "source": [
    "# Section 1\n",
    "### Import packages for data cleaning and load csv file"
   ]
  },
  {
   "cell_type": "code",
   "execution_count": 1,
   "metadata": {},
   "outputs": [],
   "source": [
    "import numpy as np\n",
    "import pandas as pd"
   ]
  },
  {
   "cell_type": "code",
   "execution_count": 6,
   "metadata": {},
   "outputs": [
    {
     "data": {
      "text/html": [
       "<div>\n",
       "<style scoped>\n",
       "    .dataframe tbody tr th:only-of-type {\n",
       "        vertical-align: middle;\n",
       "    }\n",
       "\n",
       "    .dataframe tbody tr th {\n",
       "        vertical-align: top;\n",
       "    }\n",
       "\n",
       "    .dataframe thead th {\n",
       "        text-align: right;\n",
       "    }\n",
       "</style>\n",
       "<table border=\"1\" class=\"dataframe\">\n",
       "  <thead>\n",
       "    <tr style=\"text-align: right;\">\n",
       "      <th></th>\n",
       "      <th>Date</th>\n",
       "      <th>Open</th>\n",
       "      <th>High</th>\n",
       "      <th>Low</th>\n",
       "      <th>Close</th>\n",
       "      <th>Adj Close</th>\n",
       "      <th>Volume</th>\n",
       "    </tr>\n",
       "  </thead>\n",
       "  <tbody>\n",
       "    <tr>\n",
       "      <th>0</th>\n",
       "      <td>2022-06-21</td>\n",
       "      <td>0.080587</td>\n",
       "      <td>0.087277</td>\n",
       "      <td>0.080314</td>\n",
       "      <td>0.082308</td>\n",
       "      <td>0.082308</td>\n",
       "      <td>21239427</td>\n",
       "    </tr>\n",
       "    <tr>\n",
       "      <th>1</th>\n",
       "      <td>2022-06-22</td>\n",
       "      <td>0.082312</td>\n",
       "      <td>0.087550</td>\n",
       "      <td>0.079552</td>\n",
       "      <td>0.081920</td>\n",
       "      <td>0.081920</td>\n",
       "      <td>19968197</td>\n",
       "    </tr>\n",
       "    <tr>\n",
       "      <th>2</th>\n",
       "      <td>2022-06-23</td>\n",
       "      <td>0.081921</td>\n",
       "      <td>0.083695</td>\n",
       "      <td>0.080273</td>\n",
       "      <td>0.082108</td>\n",
       "      <td>0.082108</td>\n",
       "      <td>20197033</td>\n",
       "    </tr>\n",
       "    <tr>\n",
       "      <th>3</th>\n",
       "      <td>2022-06-24</td>\n",
       "      <td>0.082132</td>\n",
       "      <td>0.090905</td>\n",
       "      <td>0.082074</td>\n",
       "      <td>0.090101</td>\n",
       "      <td>0.090101</td>\n",
       "      <td>23700083</td>\n",
       "    </tr>\n",
       "    <tr>\n",
       "      <th>4</th>\n",
       "      <td>2022-06-25</td>\n",
       "      <td>0.090099</td>\n",
       "      <td>0.094581</td>\n",
       "      <td>0.087054</td>\n",
       "      <td>0.089162</td>\n",
       "      <td>0.089162</td>\n",
       "      <td>25039688</td>\n",
       "    </tr>\n",
       "  </tbody>\n",
       "</table>\n",
       "</div>"
      ],
      "text/plain": [
       "         Date      Open      High       Low     Close  Adj Close    Volume\n",
       "0  2022-06-21  0.080587  0.087277  0.080314  0.082308   0.082308  21239427\n",
       "1  2022-06-22  0.082312  0.087550  0.079552  0.081920   0.081920  19968197\n",
       "2  2022-06-23  0.081921  0.083695  0.080273  0.082108   0.082108  20197033\n",
       "3  2022-06-24  0.082132  0.090905  0.082074  0.090101   0.090101  23700083\n",
       "4  2022-06-25  0.090099  0.094581  0.087054  0.089162   0.089162  25039688"
      ]
     },
     "execution_count": 6,
     "metadata": {},
     "output_type": "execute_result"
    }
   ],
   "source": [
    "df = pd.read_csv('/Users/jotech/Milestone Repo/milestone-project-market-prediction-model/data/FET-USD.csv')\n",
    "df.head()"
   ]
  },
  {
   "attachments": {},
   "cell_type": "markdown",
   "metadata": {},
   "source": [
    "# Section 2\n",
    "### Check for missing values or other inconsistencies in the dataset"
   ]
  },
  {
   "cell_type": "code",
   "execution_count": 7,
   "metadata": {},
   "outputs": [
    {
     "name": "stdout",
     "output_type": "stream",
     "text": [
      "<class 'pandas.core.frame.DataFrame'>\n",
      "RangeIndex: 366 entries, 0 to 365\n",
      "Data columns (total 7 columns):\n",
      " #   Column     Non-Null Count  Dtype  \n",
      "---  ------     --------------  -----  \n",
      " 0   Date       366 non-null    object \n",
      " 1   Open       366 non-null    float64\n",
      " 2   High       366 non-null    float64\n",
      " 3   Low        366 non-null    float64\n",
      " 4   Close      366 non-null    float64\n",
      " 5   Adj Close  366 non-null    float64\n",
      " 6   Volume     366 non-null    int64  \n",
      "dtypes: float64(5), int64(1), object(1)\n",
      "memory usage: 20.1+ KB\n"
     ]
    }
   ],
   "source": [
    "df.info()"
   ]
  },
  {
   "attachments": {},
   "cell_type": "markdown",
   "metadata": {},
   "source": [
    "#### Drop any eventual duplicates"
   ]
  },
  {
   "cell_type": "code",
   "execution_count": 9,
   "metadata": {},
   "outputs": [],
   "source": [
    "df.drop_duplicates(subset=None, inplace=True)"
   ]
  },
  {
   "attachments": {},
   "cell_type": "markdown",
   "metadata": {},
   "source": [
    "#### Check for eventual missing values"
   ]
  },
  {
   "cell_type": "code",
   "execution_count": 8,
   "metadata": {},
   "outputs": [
    {
     "data": {
      "text/plain": [
       "Date         0\n",
       "Open         0\n",
       "High         0\n",
       "Low          0\n",
       "Close        0\n",
       "Adj Close    0\n",
       "Volume       0\n",
       "dtype: int64"
      ]
     },
     "execution_count": 8,
     "metadata": {},
     "output_type": "execute_result"
    }
   ],
   "source": [
    "df.isnull().sum()"
   ]
  },
  {
   "attachments": {},
   "cell_type": "markdown",
   "metadata": {},
   "source": [
    "#### Drop eventual missing values"
   ]
  },
  {
   "cell_type": "code",
   "execution_count": null,
   "metadata": {},
   "outputs": [],
   "source": [
    "df = df.dropna(inplace=True)"
   ]
  },
  {
   "attachments": {},
   "cell_type": "markdown",
   "metadata": {},
   "source": [
    "# Section 3\n",
    "### Convert to datetime format and sort dataframe by date"
   ]
  },
  {
   "cell_type": "code",
   "execution_count": 10,
   "metadata": {},
   "outputs": [],
   "source": [
    "df['Date'] = pd.to_datetime(df['Date'])"
   ]
  },
  {
   "cell_type": "code",
   "execution_count": 13,
   "metadata": {},
   "outputs": [],
   "source": [
    "df.sort_values(by='Date', inplace=True, ascending=False)"
   ]
  },
  {
   "cell_type": "code",
   "execution_count": 14,
   "metadata": {},
   "outputs": [
    {
     "data": {
      "text/html": [
       "<div>\n",
       "<style scoped>\n",
       "    .dataframe tbody tr th:only-of-type {\n",
       "        vertical-align: middle;\n",
       "    }\n",
       "\n",
       "    .dataframe tbody tr th {\n",
       "        vertical-align: top;\n",
       "    }\n",
       "\n",
       "    .dataframe thead th {\n",
       "        text-align: right;\n",
       "    }\n",
       "</style>\n",
       "<table border=\"1\" class=\"dataframe\">\n",
       "  <thead>\n",
       "    <tr style=\"text-align: right;\">\n",
       "      <th></th>\n",
       "      <th>Date</th>\n",
       "      <th>Open</th>\n",
       "      <th>High</th>\n",
       "      <th>Low</th>\n",
       "      <th>Close</th>\n",
       "      <th>Adj Close</th>\n",
       "      <th>Volume</th>\n",
       "    </tr>\n",
       "  </thead>\n",
       "  <tbody>\n",
       "    <tr>\n",
       "      <th>365</th>\n",
       "      <td>2023-06-21</td>\n",
       "      <td>0.199379</td>\n",
       "      <td>0.227389</td>\n",
       "      <td>0.199379</td>\n",
       "      <td>0.223477</td>\n",
       "      <td>0.223477</td>\n",
       "      <td>66362316</td>\n",
       "    </tr>\n",
       "    <tr>\n",
       "      <th>364</th>\n",
       "      <td>2023-06-20</td>\n",
       "      <td>0.189383</td>\n",
       "      <td>0.199555</td>\n",
       "      <td>0.182674</td>\n",
       "      <td>0.199320</td>\n",
       "      <td>0.199320</td>\n",
       "      <td>32274029</td>\n",
       "    </tr>\n",
       "    <tr>\n",
       "      <th>363</th>\n",
       "      <td>2023-06-19</td>\n",
       "      <td>0.183223</td>\n",
       "      <td>0.192260</td>\n",
       "      <td>0.181794</td>\n",
       "      <td>0.189395</td>\n",
       "      <td>0.189395</td>\n",
       "      <td>28179454</td>\n",
       "    </tr>\n",
       "    <tr>\n",
       "      <th>362</th>\n",
       "      <td>2023-06-18</td>\n",
       "      <td>0.197603</td>\n",
       "      <td>0.197603</td>\n",
       "      <td>0.182670</td>\n",
       "      <td>0.183230</td>\n",
       "      <td>0.183230</td>\n",
       "      <td>28836777</td>\n",
       "    </tr>\n",
       "    <tr>\n",
       "      <th>361</th>\n",
       "      <td>2023-06-17</td>\n",
       "      <td>0.190300</td>\n",
       "      <td>0.199963</td>\n",
       "      <td>0.189429</td>\n",
       "      <td>0.197628</td>\n",
       "      <td>0.197628</td>\n",
       "      <td>24247119</td>\n",
       "    </tr>\n",
       "  </tbody>\n",
       "</table>\n",
       "</div>"
      ],
      "text/plain": [
       "          Date      Open      High       Low     Close  Adj Close    Volume\n",
       "365 2023-06-21  0.199379  0.227389  0.199379  0.223477   0.223477  66362316\n",
       "364 2023-06-20  0.189383  0.199555  0.182674  0.199320   0.199320  32274029\n",
       "363 2023-06-19  0.183223  0.192260  0.181794  0.189395   0.189395  28179454\n",
       "362 2023-06-18  0.197603  0.197603  0.182670  0.183230   0.183230  28836777\n",
       "361 2023-06-17  0.190300  0.199963  0.189429  0.197628   0.197628  24247119"
      ]
     },
     "execution_count": 14,
     "metadata": {},
     "output_type": "execute_result"
    }
   ],
   "source": [
    "df.head()"
   ]
  },
  {
   "attachments": {},
   "cell_type": "markdown",
   "metadata": {},
   "source": [
    "# Export csv file after cleaning\n",
    "#### Save cleaned dataset csv file as \"FET-USD-CLEANED.csv\" to \"data\" folder"
   ]
  },
  {
   "cell_type": "code",
   "execution_count": 15,
   "metadata": {},
   "outputs": [],
   "source": [
    "df.to_csv('/Users/jotech/Milestone Repo/milestone-project-market-prediction-model/data/FET-USD-CLEANED.csv', index=False)"
   ]
  },
  {
   "cell_type": "code",
   "execution_count": null,
   "metadata": {},
   "outputs": [],
   "source": []
  }
 ],
 "metadata": {
  "kernelspec": {
   "display_name": ".venv",
   "language": "python",
   "name": "python3"
  },
  "language_info": {
   "codemirror_mode": {
    "name": "ipython",
    "version": 3
   },
   "file_extension": ".py",
   "mimetype": "text/x-python",
   "name": "python",
   "nbconvert_exporter": "python",
   "pygments_lexer": "ipython3",
   "version": "3.9.6"
  },
  "orig_nbformat": 4
 },
 "nbformat": 4,
 "nbformat_minor": 2
}
