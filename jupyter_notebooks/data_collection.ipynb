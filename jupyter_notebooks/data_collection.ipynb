{
 "cells": [
  {
   "attachments": {},
   "cell_type": "markdown",
   "metadata": {},
   "source": [
    "# Section 1\n",
    "### Import packages for data cleaning and load csv file"
   ]
  },
  {
   "cell_type": "code",
   "execution_count": 1,
   "metadata": {},
   "outputs": [],
   "source": [
    "import numpy as np\n",
    "import pandas as pd"
   ]
  },
  {
   "cell_type": "code",
   "execution_count": 6,
   "metadata": {},
   "outputs": [
    {
     "data": {
      "text/html": [
       "<div>\n",
       "<style scoped>\n",
       "    .dataframe tbody tr th:only-of-type {\n",
       "        vertical-align: middle;\n",
       "    }\n",
       "\n",
       "    .dataframe tbody tr th {\n",
       "        vertical-align: top;\n",
       "    }\n",
       "\n",
       "    .dataframe thead th {\n",
       "        text-align: right;\n",
       "    }\n",
       "</style>\n",
       "<table border=\"1\" class=\"dataframe\">\n",
       "  <thead>\n",
       "    <tr style=\"text-align: right;\">\n",
       "      <th></th>\n",
       "      <th>Date</th>\n",
       "      <th>Open</th>\n",
       "      <th>High</th>\n",
       "      <th>Low</th>\n",
       "      <th>Close</th>\n",
       "      <th>Adj Close</th>\n",
       "      <th>Volume</th>\n",
       "    </tr>\n",
       "  </thead>\n",
       "  <tbody>\n",
       "    <tr>\n",
       "      <th>0</th>\n",
       "      <td>2022-06-21</td>\n",
       "      <td>0.080587</td>\n",
       "      <td>0.087277</td>\n",
       "      <td>0.080314</td>\n",
       "      <td>0.082308</td>\n",
       "      <td>0.082308</td>\n",
       "      <td>21239427</td>\n",
       "    </tr>\n",
       "    <tr>\n",
       "      <th>1</th>\n",
       "      <td>2022-06-22</td>\n",
       "      <td>0.082312</td>\n",
       "      <td>0.087550</td>\n",
       "      <td>0.079552</td>\n",
       "      <td>0.081920</td>\n",
       "      <td>0.081920</td>\n",
       "      <td>19968197</td>\n",
       "    </tr>\n",
       "    <tr>\n",
       "      <th>2</th>\n",
       "      <td>2022-06-23</td>\n",
       "      <td>0.081921</td>\n",
       "      <td>0.083695</td>\n",
       "      <td>0.080273</td>\n",
       "      <td>0.082108</td>\n",
       "      <td>0.082108</td>\n",
       "      <td>20197033</td>\n",
       "    </tr>\n",
       "    <tr>\n",
       "      <th>3</th>\n",
       "      <td>2022-06-24</td>\n",
       "      <td>0.082132</td>\n",
       "      <td>0.090905</td>\n",
       "      <td>0.082074</td>\n",
       "      <td>0.090101</td>\n",
       "      <td>0.090101</td>\n",
       "      <td>23700083</td>\n",
       "    </tr>\n",
       "    <tr>\n",
       "      <th>4</th>\n",
       "      <td>2022-06-25</td>\n",
       "      <td>0.090099</td>\n",
       "      <td>0.094581</td>\n",
       "      <td>0.087054</td>\n",
       "      <td>0.089162</td>\n",
       "      <td>0.089162</td>\n",
       "      <td>25039688</td>\n",
       "    </tr>\n",
       "  </tbody>\n",
       "</table>\n",
       "</div>"
      ],
      "text/plain": [
       "         Date      Open      High       Low     Close  Adj Close    Volume\n",
       "0  2022-06-21  0.080587  0.087277  0.080314  0.082308   0.082308  21239427\n",
       "1  2022-06-22  0.082312  0.087550  0.079552  0.081920   0.081920  19968197\n",
       "2  2022-06-23  0.081921  0.083695  0.080273  0.082108   0.082108  20197033\n",
       "3  2022-06-24  0.082132  0.090905  0.082074  0.090101   0.090101  23700083\n",
       "4  2022-06-25  0.090099  0.094581  0.087054  0.089162   0.089162  25039688"
      ]
     },
     "execution_count": 6,
     "metadata": {},
     "output_type": "execute_result"
    }
   ],
   "source": [
    "df = pd.read_csv('/Users/jotech/Milestone Repo/milestone-project-market-prediction-model/data/FET-USD.csv')\n",
    "df.head()"
   ]
  },
  {
   "attachments": {},
   "cell_type": "markdown",
   "metadata": {},
   "source": [
    "# Section 2\n",
    "### Check for missing values or other inconsistencies in the dataset"
   ]
  },
  {
   "cell_type": "code",
   "execution_count": 7,
   "metadata": {},
   "outputs": [
    {
     "name": "stdout",
     "output_type": "stream",
     "text": [
      "<class 'pandas.core.frame.DataFrame'>\n",
      "RangeIndex: 366 entries, 0 to 365\n",
      "Data columns (total 7 columns):\n",
      " #   Column     Non-Null Count  Dtype  \n",
      "---  ------     --------------  -----  \n",
      " 0   Date       366 non-null    object \n",
      " 1   Open       366 non-null    float64\n",
      " 2   High       366 non-null    float64\n",
      " 3   Low        366 non-null    float64\n",
      " 4   Close      366 non-null    float64\n",
      " 5   Adj Close  366 non-null    float64\n",
      " 6   Volume     366 non-null    int64  \n",
      "dtypes: float64(5), int64(1), object(1)\n",
      "memory usage: 20.1+ KB\n"
     ]
    }
   ],
   "source": [
    "df.info()"
   ]
  },
  {
   "cell_type": "code",
   "execution_count": null,
   "metadata": {},
   "outputs": [],
   "source": []
  }
 ],
 "metadata": {
  "kernelspec": {
   "display_name": ".venv",
   "language": "python",
   "name": "python3"
  },
  "language_info": {
   "codemirror_mode": {
    "name": "ipython",
    "version": 3
   },
   "file_extension": ".py",
   "mimetype": "text/x-python",
   "name": "python",
   "nbconvert_exporter": "python",
   "pygments_lexer": "ipython3",
   "version": "3.9.6"
  },
  "orig_nbformat": 4
 },
 "nbformat": 4,
 "nbformat_minor": 2
}
