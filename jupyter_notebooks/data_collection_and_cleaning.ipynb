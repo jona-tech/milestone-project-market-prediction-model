{
 "cells": [
  {
   "attachments": {},
   "cell_type": "markdown",
   "metadata": {},
   "source": [
    "# Section 1\n",
    "### Import packages for data cleaning and download csv file"
   ]
  },
  {
   "cell_type": "code",
   "execution_count": 22,
   "metadata": {},
   "outputs": [],
   "source": [
    "import numpy as np\n",
    "import pandas as pd\n",
    "import yfinance as yf"
   ]
  },
  {
   "cell_type": "code",
   "execution_count": 24,
   "metadata": {},
   "outputs": [
    {
     "name": "stdout",
     "output_type": "stream",
     "text": [
      "[*********************100%***********************]  1 of 1 completed\n"
     ]
    },
    {
     "data": {
      "text/html": [
       "<div>\n",
       "<style scoped>\n",
       "    .dataframe tbody tr th:only-of-type {\n",
       "        vertical-align: middle;\n",
       "    }\n",
       "\n",
       "    .dataframe tbody tr th {\n",
       "        vertical-align: top;\n",
       "    }\n",
       "\n",
       "    .dataframe thead th {\n",
       "        text-align: right;\n",
       "    }\n",
       "</style>\n",
       "<table border=\"1\" class=\"dataframe\">\n",
       "  <thead>\n",
       "    <tr style=\"text-align: right;\">\n",
       "      <th></th>\n",
       "      <th>Open</th>\n",
       "      <th>High</th>\n",
       "      <th>Low</th>\n",
       "      <th>Close</th>\n",
       "      <th>Adj Close</th>\n",
       "      <th>Volume</th>\n",
       "    </tr>\n",
       "    <tr>\n",
       "      <th>Date</th>\n",
       "      <th></th>\n",
       "      <th></th>\n",
       "      <th></th>\n",
       "      <th></th>\n",
       "      <th></th>\n",
       "      <th></th>\n",
       "    </tr>\n",
       "  </thead>\n",
       "  <tbody>\n",
       "    <tr>\n",
       "      <th>2022-06-23</th>\n",
       "      <td>3774.709961</td>\n",
       "      <td>3802.580078</td>\n",
       "      <td>3743.520020</td>\n",
       "      <td>3795.729980</td>\n",
       "      <td>3795.729980</td>\n",
       "      <td>5098640000</td>\n",
       "    </tr>\n",
       "    <tr>\n",
       "      <th>2022-06-24</th>\n",
       "      <td>3821.750000</td>\n",
       "      <td>3913.649902</td>\n",
       "      <td>3821.750000</td>\n",
       "      <td>3911.739990</td>\n",
       "      <td>3911.739990</td>\n",
       "      <td>8120260000</td>\n",
       "    </tr>\n",
       "    <tr>\n",
       "      <th>2022-06-27</th>\n",
       "      <td>3920.760010</td>\n",
       "      <td>3927.719971</td>\n",
       "      <td>3889.659912</td>\n",
       "      <td>3900.110107</td>\n",
       "      <td>3900.110107</td>\n",
       "      <td>4325310000</td>\n",
       "    </tr>\n",
       "    <tr>\n",
       "      <th>2022-06-28</th>\n",
       "      <td>3913.000000</td>\n",
       "      <td>3945.860107</td>\n",
       "      <td>3820.139893</td>\n",
       "      <td>3821.550049</td>\n",
       "      <td>3821.550049</td>\n",
       "      <td>4270120000</td>\n",
       "    </tr>\n",
       "    <tr>\n",
       "      <th>2022-06-29</th>\n",
       "      <td>3825.090088</td>\n",
       "      <td>3836.500000</td>\n",
       "      <td>3799.020020</td>\n",
       "      <td>3818.830078</td>\n",
       "      <td>3818.830078</td>\n",
       "      <td>4211240000</td>\n",
       "    </tr>\n",
       "  </tbody>\n",
       "</table>\n",
       "</div>"
      ],
      "text/plain": [
       "                   Open         High          Low        Close    Adj Close  \\\n",
       "Date                                                                          \n",
       "2022-06-23  3774.709961  3802.580078  3743.520020  3795.729980  3795.729980   \n",
       "2022-06-24  3821.750000  3913.649902  3821.750000  3911.739990  3911.739990   \n",
       "2022-06-27  3920.760010  3927.719971  3889.659912  3900.110107  3900.110107   \n",
       "2022-06-28  3913.000000  3945.860107  3820.139893  3821.550049  3821.550049   \n",
       "2022-06-29  3825.090088  3836.500000  3799.020020  3818.830078  3818.830078   \n",
       "\n",
       "                Volume  \n",
       "Date                    \n",
       "2022-06-23  5098640000  \n",
       "2022-06-24  8120260000  \n",
       "2022-06-27  4325310000  \n",
       "2022-06-28  4270120000  \n",
       "2022-06-29  4211240000  "
      ]
     },
     "execution_count": 24,
     "metadata": {},
     "output_type": "execute_result"
    }
   ],
   "source": [
    "ticker_symbol = \"^GSPC\"\n",
    "\n",
    "start_date = \"2022-06-23\"\n",
    "end_date = \"2023-06-23\"\n",
    "\n",
    "data = yf.download(ticker_symbol, start=start_date, end=end_date)\n",
    "\n",
    "data.head()"
   ]
  },
  {
   "attachments": {},
   "cell_type": "markdown",
   "metadata": {},
   "source": [
    "# Section 2\n",
    "### Check for missing values or other inconsistencies in the dataset"
   ]
  },
  {
   "cell_type": "code",
   "execution_count": 25,
   "metadata": {},
   "outputs": [
    {
     "name": "stdout",
     "output_type": "stream",
     "text": [
      "<class 'pandas.core.frame.DataFrame'>\n",
      "DatetimeIndex: 251 entries, 2022-06-23 to 2023-06-22\n",
      "Data columns (total 6 columns):\n",
      " #   Column     Non-Null Count  Dtype  \n",
      "---  ------     --------------  -----  \n",
      " 0   Open       251 non-null    float64\n",
      " 1   High       251 non-null    float64\n",
      " 2   Low        251 non-null    float64\n",
      " 3   Close      251 non-null    float64\n",
      " 4   Adj Close  251 non-null    float64\n",
      " 5   Volume     251 non-null    int64  \n",
      "dtypes: float64(5), int64(1)\n",
      "memory usage: 13.7 KB\n"
     ]
    }
   ],
   "source": [
    "data.info()"
   ]
  },
  {
   "attachments": {},
   "cell_type": "markdown",
   "metadata": {},
   "source": [
    "#### Drop any eventual duplicates"
   ]
  },
  {
   "cell_type": "code",
   "execution_count": 26,
   "metadata": {},
   "outputs": [],
   "source": [
    "data.drop_duplicates(subset=None, inplace=True)"
   ]
  },
  {
   "attachments": {},
   "cell_type": "markdown",
   "metadata": {},
   "source": [
    "#### Check for eventual missing values and drop if present"
   ]
  },
  {
   "cell_type": "code",
   "execution_count": 28,
   "metadata": {},
   "outputs": [
    {
     "name": "stdout",
     "output_type": "stream",
     "text": [
      "No null values found in the data\n"
     ]
    }
   ],
   "source": [
    "if data.isnull().values.any():\n",
    "    data.dropna(inplace=True)\n",
    "else:\n",
    "    print(\"No null values found in the data\")"
   ]
  },
  {
   "attachments": {},
   "cell_type": "markdown",
   "metadata": {},
   "source": [
    "# Section 3\n",
    "### Convert to datetime format and sort dataframe by date"
   ]
  },
  {
   "cell_type": "code",
   "execution_count": 30,
   "metadata": {},
   "outputs": [
    {
     "name": "stdout",
     "output_type": "stream",
     "text": [
      "Datetime index already set.\n"
     ]
    }
   ],
   "source": [
    "if isinstance(data.index, pd.DatetimeIndex):\n",
    "    print(\"Datetime index already set.\")\n",
    "else:\n",
    "    try:\n",
    "        data.set_index('Date', inplace=True)\n",
    "        data.index = pd.to_datetime(data.index)\n",
    "        print('Datetime index has been set.')\n",
    "    except KeyError:\n",
    "        print('Unable to set datetime index.')\n"
   ]
  },
  {
   "cell_type": "code",
   "execution_count": 31,
   "metadata": {},
   "outputs": [],
   "source": [
    "data.sort_values(by='Date', inplace=True, ascending=False)"
   ]
  },
  {
   "cell_type": "code",
   "execution_count": 32,
   "metadata": {},
   "outputs": [
    {
     "data": {
      "text/html": [
       "<div>\n",
       "<style scoped>\n",
       "    .dataframe tbody tr th:only-of-type {\n",
       "        vertical-align: middle;\n",
       "    }\n",
       "\n",
       "    .dataframe tbody tr th {\n",
       "        vertical-align: top;\n",
       "    }\n",
       "\n",
       "    .dataframe thead th {\n",
       "        text-align: right;\n",
       "    }\n",
       "</style>\n",
       "<table border=\"1\" class=\"dataframe\">\n",
       "  <thead>\n",
       "    <tr style=\"text-align: right;\">\n",
       "      <th></th>\n",
       "      <th>Open</th>\n",
       "      <th>High</th>\n",
       "      <th>Low</th>\n",
       "      <th>Close</th>\n",
       "      <th>Adj Close</th>\n",
       "      <th>Volume</th>\n",
       "    </tr>\n",
       "    <tr>\n",
       "      <th>Date</th>\n",
       "      <th></th>\n",
       "      <th></th>\n",
       "      <th></th>\n",
       "      <th></th>\n",
       "      <th></th>\n",
       "      <th></th>\n",
       "    </tr>\n",
       "  </thead>\n",
       "  <tbody>\n",
       "    <tr>\n",
       "      <th>2023-06-22</th>\n",
       "      <td>4355.399902</td>\n",
       "      <td>4382.250000</td>\n",
       "      <td>4351.819824</td>\n",
       "      <td>4381.890137</td>\n",
       "      <td>4381.890137</td>\n",
       "      <td>3511000000</td>\n",
       "    </tr>\n",
       "    <tr>\n",
       "      <th>2023-06-21</th>\n",
       "      <td>4380.009766</td>\n",
       "      <td>4386.220215</td>\n",
       "      <td>4360.140137</td>\n",
       "      <td>4365.689941</td>\n",
       "      <td>4365.689941</td>\n",
       "      <td>3709330000</td>\n",
       "    </tr>\n",
       "    <tr>\n",
       "      <th>2023-06-20</th>\n",
       "      <td>4396.109863</td>\n",
       "      <td>4400.149902</td>\n",
       "      <td>4367.189941</td>\n",
       "      <td>4388.709961</td>\n",
       "      <td>4388.709961</td>\n",
       "      <td>4055790000</td>\n",
       "    </tr>\n",
       "    <tr>\n",
       "      <th>2023-06-16</th>\n",
       "      <td>4440.950195</td>\n",
       "      <td>4448.470215</td>\n",
       "      <td>4407.439941</td>\n",
       "      <td>4409.589844</td>\n",
       "      <td>4409.589844</td>\n",
       "      <td>6848600000</td>\n",
       "    </tr>\n",
       "    <tr>\n",
       "      <th>2023-06-15</th>\n",
       "      <td>4365.330078</td>\n",
       "      <td>4439.200195</td>\n",
       "      <td>4362.600098</td>\n",
       "      <td>4425.839844</td>\n",
       "      <td>4425.839844</td>\n",
       "      <td>4176690000</td>\n",
       "    </tr>\n",
       "  </tbody>\n",
       "</table>\n",
       "</div>"
      ],
      "text/plain": [
       "                   Open         High          Low        Close    Adj Close  \\\n",
       "Date                                                                          \n",
       "2023-06-22  4355.399902  4382.250000  4351.819824  4381.890137  4381.890137   \n",
       "2023-06-21  4380.009766  4386.220215  4360.140137  4365.689941  4365.689941   \n",
       "2023-06-20  4396.109863  4400.149902  4367.189941  4388.709961  4388.709961   \n",
       "2023-06-16  4440.950195  4448.470215  4407.439941  4409.589844  4409.589844   \n",
       "2023-06-15  4365.330078  4439.200195  4362.600098  4425.839844  4425.839844   \n",
       "\n",
       "                Volume  \n",
       "Date                    \n",
       "2023-06-22  3511000000  \n",
       "2023-06-21  3709330000  \n",
       "2023-06-20  4055790000  \n",
       "2023-06-16  6848600000  \n",
       "2023-06-15  4176690000  "
      ]
     },
     "execution_count": 32,
     "metadata": {},
     "output_type": "execute_result"
    }
   ],
   "source": [
    "data.head()"
   ]
  },
  {
   "attachments": {},
   "cell_type": "markdown",
   "metadata": {},
   "source": [
    "# Export csv file after cleaning\n",
    "#### Save cleaned dataset csv file as \"FET-USD-CLEANED.csv\" to \"data\" folder"
   ]
  },
  {
   "cell_type": "code",
   "execution_count": 34,
   "metadata": {},
   "outputs": [
    {
     "name": "stdout",
     "output_type": "stream",
     "text": [
      "Data saved to csv file.\n"
     ]
    }
   ],
   "source": [
    "try: \n",
    "    data.to_csv('/Users/jotech/Milestone Repo/milestone-project-market-prediction-model/data/^GSPC.csv', index='Date')\n",
    "    print('Data saved to csv file.')\n",
    "except:\n",
    "    print('Unable to save data to csv file.')"
   ]
  }
 ],
 "metadata": {
  "kernelspec": {
   "display_name": ".venv",
   "language": "python",
   "name": "python3"
  },
  "language_info": {
   "codemirror_mode": {
    "name": "ipython",
    "version": 3
   },
   "file_extension": ".py",
   "mimetype": "text/x-python",
   "name": "python",
   "nbconvert_exporter": "python",
   "pygments_lexer": "ipython3",
   "version": "3.10.9"
  },
  "orig_nbformat": 4
 },
 "nbformat": 4,
 "nbformat_minor": 2
}
